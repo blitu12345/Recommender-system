{
 "cells": [
  {
   "cell_type": "code",
   "execution_count": 132,
   "metadata": {
    "collapsed": false
   },
   "outputs": [],
   "source": [
    "#### importing libraries\n",
    "import sqlite3\n",
    "import MySQLdb\n",
    "import pandas as pd\n",
    "import numpy as np\n",
    "from scipy.spatial.distance import euclidean\n",
    "from scipy.stats.stats import pearsonr"
   ]
  },
  {
   "cell_type": "code",
   "execution_count": 133,
   "metadata": {
    "collapsed": false
   },
   "outputs": [
    {
     "data": {
      "text/html": [
       "<div style=\"max-height:1000px;max-width:1500px;overflow:auto;\">\n",
       "<table border=\"1\" class=\"dataframe\">\n",
       "  <thead>\n",
       "    <tr style=\"text-align: right;\">\n",
       "      <th>user_id</th>\n",
       "      <th>101</th>\n",
       "      <th>102</th>\n",
       "      <th>103</th>\n",
       "      <th>104</th>\n",
       "      <th>105</th>\n",
       "      <th>106</th>\n",
       "      <th>107</th>\n",
       "      <th>108</th>\n",
       "    </tr>\n",
       "    <tr>\n",
       "      <th>book_id</th>\n",
       "      <th></th>\n",
       "      <th></th>\n",
       "      <th></th>\n",
       "      <th></th>\n",
       "      <th></th>\n",
       "      <th></th>\n",
       "      <th></th>\n",
       "      <th></th>\n",
       "    </tr>\n",
       "  </thead>\n",
       "  <tbody>\n",
       "    <tr>\n",
       "      <th>50001</th>\n",
       "      <td> 2</td>\n",
       "      <td> 0</td>\n",
       "      <td> 0</td>\n",
       "      <td> 1</td>\n",
       "      <td> 0</td>\n",
       "      <td> 0</td>\n",
       "      <td> 1</td>\n",
       "      <td> 3</td>\n",
       "    </tr>\n",
       "    <tr>\n",
       "      <th>50002</th>\n",
       "      <td> 0</td>\n",
       "      <td> 2</td>\n",
       "      <td> 0</td>\n",
       "      <td> 0</td>\n",
       "      <td> 2</td>\n",
       "      <td> 0</td>\n",
       "      <td> 0</td>\n",
       "      <td> 0</td>\n",
       "    </tr>\n",
       "    <tr>\n",
       "      <th>50003</th>\n",
       "      <td> 1</td>\n",
       "      <td> 0</td>\n",
       "      <td> 3</td>\n",
       "      <td> 0</td>\n",
       "      <td> 0</td>\n",
       "      <td> 0</td>\n",
       "      <td> 0</td>\n",
       "      <td> 0</td>\n",
       "    </tr>\n",
       "    <tr>\n",
       "      <th>50004</th>\n",
       "      <td> 0</td>\n",
       "      <td> 3</td>\n",
       "      <td> 0</td>\n",
       "      <td> 4</td>\n",
       "      <td> 1</td>\n",
       "      <td> 2</td>\n",
       "      <td> 0</td>\n",
       "      <td> 0</td>\n",
       "    </tr>\n",
       "    <tr>\n",
       "      <th>50005</th>\n",
       "      <td> 0</td>\n",
       "      <td> 0</td>\n",
       "      <td> 0</td>\n",
       "      <td> 0</td>\n",
       "      <td> 0</td>\n",
       "      <td> 0</td>\n",
       "      <td> 4</td>\n",
       "      <td> 4</td>\n",
       "    </tr>\n",
       "    <tr>\n",
       "      <th>50006</th>\n",
       "      <td> 3</td>\n",
       "      <td> 0</td>\n",
       "      <td> 0</td>\n",
       "      <td> 0</td>\n",
       "      <td> 4</td>\n",
       "      <td> 0</td>\n",
       "      <td> 0</td>\n",
       "      <td> 0</td>\n",
       "    </tr>\n",
       "    <tr>\n",
       "      <th>50007</th>\n",
       "      <td> 0</td>\n",
       "      <td> 4</td>\n",
       "      <td> 0</td>\n",
       "      <td> 0</td>\n",
       "      <td> 0</td>\n",
       "      <td> 0</td>\n",
       "      <td> 0</td>\n",
       "      <td> 0</td>\n",
       "    </tr>\n",
       "    <tr>\n",
       "      <th>50008</th>\n",
       "      <td> 0</td>\n",
       "      <td> 0</td>\n",
       "      <td> 1</td>\n",
       "      <td> 0</td>\n",
       "      <td> 0</td>\n",
       "      <td> 4</td>\n",
       "      <td> 0</td>\n",
       "      <td> 0</td>\n",
       "    </tr>\n",
       "    <tr>\n",
       "      <th>50009</th>\n",
       "      <td> 0</td>\n",
       "      <td> 0</td>\n",
       "      <td> 4</td>\n",
       "      <td> 0</td>\n",
       "      <td> 0</td>\n",
       "      <td> 0</td>\n",
       "      <td> 2</td>\n",
       "      <td> 0</td>\n",
       "    </tr>\n",
       "    <tr>\n",
       "      <th>50010</th>\n",
       "      <td> 0</td>\n",
       "      <td> 0</td>\n",
       "      <td> 0</td>\n",
       "      <td> 0</td>\n",
       "      <td> 0</td>\n",
       "      <td> 0</td>\n",
       "      <td> 0</td>\n",
       "      <td> 0</td>\n",
       "    </tr>\n",
       "    <tr>\n",
       "      <th>50011</th>\n",
       "      <td> 0</td>\n",
       "      <td> 0</td>\n",
       "      <td> 0</td>\n",
       "      <td> 0</td>\n",
       "      <td> 0</td>\n",
       "      <td> 1</td>\n",
       "      <td> 0</td>\n",
       "      <td> 0</td>\n",
       "    </tr>\n",
       "    <tr>\n",
       "      <th>50012</th>\n",
       "      <td> 0</td>\n",
       "      <td> 1</td>\n",
       "      <td> 2</td>\n",
       "      <td> 2</td>\n",
       "      <td> 0</td>\n",
       "      <td> 0</td>\n",
       "      <td> 3</td>\n",
       "      <td> 2</td>\n",
       "    </tr>\n",
       "    <tr>\n",
       "      <th>50013</th>\n",
       "      <td> 4</td>\n",
       "      <td> 0</td>\n",
       "      <td> 0</td>\n",
       "      <td> 0</td>\n",
       "      <td> 0</td>\n",
       "      <td> 0</td>\n",
       "      <td> 0</td>\n",
       "      <td> 0</td>\n",
       "    </tr>\n",
       "    <tr>\n",
       "      <th>50014</th>\n",
       "      <td> 0</td>\n",
       "      <td> 0</td>\n",
       "      <td> 0</td>\n",
       "      <td> 0</td>\n",
       "      <td> 3</td>\n",
       "      <td> 0</td>\n",
       "      <td> 0</td>\n",
       "      <td> 0</td>\n",
       "    </tr>\n",
       "    <tr>\n",
       "      <th>50015</th>\n",
       "      <td> 0</td>\n",
       "      <td> 0</td>\n",
       "      <td> 0</td>\n",
       "      <td> 3</td>\n",
       "      <td> 0</td>\n",
       "      <td> 3</td>\n",
       "      <td> 0</td>\n",
       "      <td> 1</td>\n",
       "    </tr>\n",
       "  </tbody>\n",
       "</table>\n",
       "<p>15 rows × 8 columns</p>\n",
       "</div>"
      ],
      "text/plain": [
       "user_id  101  102  103  104  105  106  107  108\n",
       "book_id                                        \n",
       "50001      2    0    0    1    0    0    1    3\n",
       "50002      0    2    0    0    2    0    0    0\n",
       "50003      1    0    3    0    0    0    0    0\n",
       "50004      0    3    0    4    1    2    0    0\n",
       "50005      0    0    0    0    0    0    4    4\n",
       "50006      3    0    0    0    4    0    0    0\n",
       "50007      0    4    0    0    0    0    0    0\n",
       "50008      0    0    1    0    0    4    0    0\n",
       "50009      0    0    4    0    0    0    2    0\n",
       "50010      0    0    0    0    0    0    0    0\n",
       "50011      0    0    0    0    0    1    0    0\n",
       "50012      0    1    2    2    0    0    3    2\n",
       "50013      4    0    0    0    0    0    0    0\n",
       "50014      0    0    0    0    3    0    0    0\n",
       "50015      0    0    0    3    0    3    0    1\n",
       "\n",
       "[15 rows x 8 columns]"
      ]
     },
     "execution_count": 133,
     "metadata": {},
     "output_type": "execute_result"
    }
   ],
   "source": [
    "##### exploring trainig data.\n",
    "df=pd.read_csv('train.csv').drop(['Unnamed: 0'],axis=1)\n",
    "pd.pivot_table(df,'preference',rows=['book_id'],cols=['user_id'])"
   ]
  },
  {
   "cell_type": "markdown",
   "metadata": {},
   "source": [
    "# Evaluation"
   ]
  },
  {
   "cell_type": "code",
   "execution_count": 134,
   "metadata": {
    "collapsed": false
   },
   "outputs": [],
   "source": [
    "#### we will be calculating recall for evaluating recommender system\n",
    "def eval_recall(pred,r,y):\n",
    "    count=0\n",
    "    recall=0\n",
    "    for j in range(n):\n",
    "        for i in range(m):\n",
    "            if r[i,j]==1:\n",
    "                count+=1.0\n",
    "                if(pred[i,j]==y[i,j]):\n",
    "                    recall+=1.0\n",
    "    return recall/count             "
   ]
  },
  {
   "cell_type": "markdown",
   "metadata": {},
   "source": [
    "# From here we will be deploying Content Based Recommender System"
   ]
  },
  {
   "cell_type": "code",
   "execution_count": 135,
   "metadata": {
    "collapsed": false,
    "scrolled": false
   },
   "outputs": [],
   "source": [
    "##### Since classifier can understand reference given to books, which needs to be converted\n",
    "##### into continous values like rating for each book.We will \n",
    "##### In CB engine user will have similar features corresponding to that of book's feature i.e \n",
    "\n",
    "df.loc[(df.preference!=0),'preference']=5-df['preference']\n",
    "#### n number of users\n",
    "#### m number of books\n",
    "#### y(i,j) is rating of book i by user j\n",
    "#### shape of y is (n,m)\n",
    "y=pd.pivot_table(df,'preference',rows=['book_id'],cols=['user_id']).values\n",
    "m,n=np.shape(y)\n",
    "\n",
    "#### calculating average rating of each book given by user\n",
    "df.loc[(df.preference==0),'preference']=np.nan\n",
    "avg_rating = pd.pivot_table(df,'preference',rows=['book_id'],cols=['user_id']).mean(axis=1)\n",
    "\n",
    "#### r(i,j) is 1 if user j has provided rating of book i\n",
    "#### shape of r is (n,m)\n",
    "r=np.zeros((m,n))\n",
    "for i in range(m):\n",
    "    for j in range(n):\n",
    "        if y[i,j]>=1: r[i,j]=1\n",
    "\n",
    "\n",
    "#### now initialise theta a users feature matrix\n",
    "#### p number distinct of genres of books.\n",
    "#### theta(j) shape(p,1) is a weight vector of user j\n",
    "#### shape of theta (p,n)\n",
    "\n",
    "p = len(df.genre_name.unique())\n",
    "theta=np.zeros((p+1,n)) # initialise theta with all its element 0\n",
    "#theta = np.zeros((p+1,n))\n",
    "\n",
    "#### b_count(j) contains the number of books reviewed by user j\n",
    "b_count=[0]*n\n",
    "for i in range(n):\n",
    "    for j in range(m):\n",
    "        if r[j,i]==1: b_count[i]+=1\n",
    "            \n",
    "#### initialise x a items feature matrix\n",
    "#### will create dummies of genre_name columns for each book\n",
    "df_books = pd.read_csv('Books.csv')\n",
    "dummies=pd.get_dummies(df_books.genre_name)\n",
    "x=np.ones((15,1))\n",
    "x=np.concatenate((x,dummies.values),axis=1)"
   ]
  },
  {
   "cell_type": "code",
   "execution_count": 136,
   "metadata": {
    "collapsed": true
   },
   "outputs": [],
   "source": [
    "##### define function needed for optimisation\n",
    "def h(theta_one,x_one):\n",
    "    return theta_one.dot(x_one)\n",
    "\n",
    "def costF(theta_one,x_one,rating):\n",
    "    return h(theta_one,x_one)-rating\n",
    "\n",
    "def grad(theta_one,x_one,rating):\n",
    "    return costF(theta_one,x_one,rating)*x_one\n"
   ]
  },
  {
   "cell_type": "code",
   "execution_count": 137,
   "metadata": {
    "collapsed": false,
    "scrolled": false
   },
   "outputs": [],
   "source": [
    "##### optimizing algorithm\n",
    "def optimize(theta,x,alpha,y):\n",
    "    for j in range(n):\n",
    "        for i in range(m):\n",
    "            if r[i,j]==1:\n",
    "                theta[:,j]=theta[:,j] - alpha*grad(theta[:,j],x[i,:],y[i,j])\n",
    "            else: continue\n",
    "    return theta\n",
    "\n",
    "def train(itr,alpha,theta,x,y):\n",
    "    for i in range(itr):\n",
    "        theta = optimize(theta,x,alpha,y)\n",
    "    return theta\n",
    "\n",
    "def predict(theta,x):\n",
    "    pred=[]\n",
    "    for j in range(n):\n",
    "        prd=map(round,x.dot(theta[:,j]))\n",
    "        pred.append(prd)\n",
    "    return np.array(pred).T"
   ]
  },
  {
   "cell_type": "code",
   "execution_count": 138,
   "metadata": {
    "collapsed": false
   },
   "outputs": [],
   "source": [
    "##### recommending book to user\n",
    "def recommend(user,theta,x):### gives recommendation with decreasing order of preference\n",
    "    recmd={}\n",
    "    book_id = pd.read_csv('Books.csv').book_id.unique().tolist()\n",
    "    if user==None:\n",
    "        avg_rating = pd.pivot_table(df,'preference',rows=['book_id'],cols=['user_id']).mean(axis=1)\n",
    "        for ids,rating in zip(book_id,avg_rating):\n",
    "            recmd[ids]=rating\n",
    "        return sorted(recmd,key=recmd.__getitem__,reverse=True)\n",
    "    else:\n",
    "        pred=predict(theta,x)\n",
    "        pred=pred[user%100-1,:]\n",
    "        for ids,rating in zip(book_id,pred):\n",
    "            recmd[ids]=rating\n",
    "        return sorted(recmd,key=recmd.__getitem__,reverse=True)"
   ]
  },
  {
   "cell_type": "code",
   "execution_count": 139,
   "metadata": {
    "collapsed": false
   },
   "outputs": [],
   "source": [
    "#### training the algo\n",
    "#### with iterations=1000, alpha=0.001\n",
    "theta = train(10000,0.001,theta,x,y)"
   ]
  },
  {
   "cell_type": "code",
   "execution_count": 140,
   "metadata": {
    "collapsed": false
   },
   "outputs": [],
   "source": [
    "def recommend_genre(id_,theta=theta,x=x):### recommends genre\n",
    "    book_ids = recommend(id_,theta,x)\n",
    "    book_ids=map(lambda x: x%1000-1,book_ids)\n",
    "    df = pd.read_csv('Books.csv')\n",
    "    genre = df.genre_name.values\n",
    "    return genre[book_ids]\n",
    "\n",
    "def recommend_authors(id_,theta=theta,x=x):## recommends authors\n",
    "    book_ids = recommend(id_,theta,x)\n",
    "    book_ids=map(lambda x: x%1000-1,book_ids)\n",
    "    df = pd.read_csv('Books.csv')\n",
    "    authors = df.author.values\n",
    "    return authors[book_ids]"
   ]
  },
  {
   "cell_type": "code",
   "execution_count": 141,
   "metadata": {
    "collapsed": false
   },
   "outputs": [
    {
     "data": {
      "text/plain": [
       "array(['Soumika Shetty', 'J K Rowling', 'William Shakespeare',\n",
       "       'George Ilian', 'Dale Carnegie', 'Shamik Dasgupta',\n",
       "       'Ashwini Sanghi', 'Stephen King'], dtype=object)"
      ]
     },
     "execution_count": 141,
     "metadata": {},
     "output_type": "execute_result"
    }
   ],
   "source": [
    "recommend_authors(105)"
   ]
  },
  {
   "cell_type": "code",
   "execution_count": 142,
   "metadata": {
    "collapsed": false
   },
   "outputs": [
    {
     "data": {
      "text/plain": [
       "array(['crime_mystery', 'action_adventure', 'arts_film', 'biography',\n",
       "       'business_economics', 'comics', 'crime_mystery', 'horror'], dtype=object)"
      ]
     },
     "execution_count": 142,
     "metadata": {},
     "output_type": "execute_result"
    }
   ],
   "source": [
    "recommend_genre(105)"
   ]
  }
 ],
 "metadata": {
  "kernelspec": {
   "display_name": "Python 2",
   "language": "python",
   "name": "python2"
  },
  "language_info": {
   "codemirror_mode": {
    "name": "ipython",
    "version": 2
   },
   "file_extension": ".py",
   "mimetype": "text/x-python",
   "name": "python",
   "nbconvert_exporter": "python",
   "pygments_lexer": "ipython2",
   "version": "2.7.6"
  }
 },
 "nbformat": 4,
 "nbformat_minor": 2
}
